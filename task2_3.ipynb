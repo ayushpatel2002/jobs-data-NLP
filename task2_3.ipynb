{
 "cells": [
  {
   "cell_type": "markdown",
   "metadata": {},
   "source": [
    "# Assignment 2: Milestone I Natural Language Processing\n",
    "## Task 2&3\n",
    "#### Student Name: Ayush Kamleshbhai Patel\n",
    "#### Student ID: 3891013\n",
    "\n",
    "Date: XXXX\n",
    "\n",
    "Version: 1.0\n",
    "\n",
    "Environment: Python 3 and Jupyter notebook\n",
    "\n",
    "Libraries used: please include all the libraries you used in your assignment, e.g.,:\n",
    "* pandas\n",
    "* re\n",
    "* numpy\n",
    "\n",
    "## Introduction\n",
    "You should give a brief information of this assessment task here."
   ]
  },
  {
   "cell_type": "markdown",
   "metadata": {},
   "source": [
    "## Importing libraries "
   ]
  },
  {
   "cell_type": "code",
   "execution_count": 1,
   "metadata": {},
   "outputs": [],
   "source": [
    "# Code to import libraries as you need in this assessment, e.g.,\n",
    "from sklearn.feature_extraction.text import CountVectorizer\n",
    "from itertools import chain\n",
    "from sklearn.feature_extraction.text import TfidfVectorizer\n",
    "import pandas as pd"
   ]
  },
  {
   "cell_type": "markdown",
   "metadata": {},
   "source": [
    "## Task 2. Generating Feature Representations for Job Advertisement Descriptions"
   ]
  },
  {
   "cell_type": "markdown",
   "metadata": {},
   "source": [
    "#### Loading the data"
   ]
  },
  {
   "cell_type": "code",
   "execution_count": 2,
   "metadata": {},
   "outputs": [
    {
     "data": {
      "text/plain": [
       "776"
      ]
     },
     "execution_count": 2,
     "metadata": {},
     "output_type": "execute_result"
    }
   ],
   "source": [
    "with open('description.txt') as f:\n",
    "    tk_description = [line.split() for line in f.read().splitlines()]\n",
    "len(tk_description)"
   ]
  },
  {
   "cell_type": "code",
   "execution_count": 3,
   "metadata": {},
   "outputs": [
    {
     "data": {
      "text/plain": [
       "5168"
      ]
     },
     "execution_count": 3,
     "metadata": {},
     "output_type": "execute_result"
    }
   ],
   "source": [
    "words = list(chain.from_iterable(tk_description))\n",
    "# set of unique words\n",
    "vocab = sorted(list(set(words)))\n",
    "# total number of the vocabulary\n",
    "len(vocab)\n"
   ]
  },
  {
   "cell_type": "code",
   "execution_count": 4,
   "metadata": {},
   "outputs": [
    {
     "data": {
      "text/html": [
       "<div>\n",
       "<style scoped>\n",
       "    .dataframe tbody tr th:only-of-type {\n",
       "        vertical-align: middle;\n",
       "    }\n",
       "\n",
       "    .dataframe tbody tr th {\n",
       "        vertical-align: top;\n",
       "    }\n",
       "\n",
       "    .dataframe thead th {\n",
       "        text-align: right;\n",
       "    }\n",
       "</style>\n",
       "<table border=\"1\" class=\"dataframe\">\n",
       "  <thead>\n",
       "    <tr style=\"text-align: right;\">\n",
       "      <th></th>\n",
       "      <th>Webindex</th>\n",
       "      <th>Title</th>\n",
       "      <th>Company</th>\n",
       "      <th>Description</th>\n",
       "      <th>Tokenized Description</th>\n",
       "      <th>Category</th>\n",
       "    </tr>\n",
       "  </thead>\n",
       "  <tbody>\n",
       "    <tr>\n",
       "      <th>0</th>\n",
       "      <td>68997528</td>\n",
       "      <td>Finance / Accounts Asst Bromley to ****k</td>\n",
       "      <td>First Recruitment Services</td>\n",
       "      <td>Accountant (partqualified) to **** p.a. South ...</td>\n",
       "      <td>['accountant', 'partqualified', 'south', 'east...</td>\n",
       "      <td>Accounting_Finance</td>\n",
       "    </tr>\n",
       "    <tr>\n",
       "      <th>1</th>\n",
       "      <td>68063513</td>\n",
       "      <td>Fund Accountant  Hedge Fund</td>\n",
       "      <td>Austin Andrew Ltd</td>\n",
       "      <td>One of the leading Hedge Funds in London is cu...</td>\n",
       "      <td>['hedge', 'funds', 'london', 'recruiting', 'fu...</td>\n",
       "      <td>Accounting_Finance</td>\n",
       "    </tr>\n",
       "    <tr>\n",
       "      <th>2</th>\n",
       "      <td>68700336</td>\n",
       "      <td>Deputy Home Manager</td>\n",
       "      <td>Caritas</td>\n",
       "      <td>An exciting opportunity has arisen to join an ...</td>\n",
       "      <td>['exciting', 'arisen', 'establish', 'provider'...</td>\n",
       "      <td>Healthcare_Nursing</td>\n",
       "    </tr>\n",
       "    <tr>\n",
       "      <th>3</th>\n",
       "      <td>67996688</td>\n",
       "      <td>Brokers Wanted Imediate Start</td>\n",
       "      <td>OneTwoTrade</td>\n",
       "      <td>OneTwoTrade is expanding their Sales Team and ...</td>\n",
       "      <td>['expanding', 'recruiting', 'junior', 'trainee...</td>\n",
       "      <td>Accounting_Finance</td>\n",
       "    </tr>\n",
       "    <tr>\n",
       "      <th>4</th>\n",
       "      <td>71803987</td>\n",
       "      <td>RGN Nurses (Hospitals)  Penarth</td>\n",
       "      <td>Swiis Healthcare</td>\n",
       "      <td>RGN Nurses (Hospitals) Immediate fulltime and ...</td>\n",
       "      <td>['rgn', 'nurses', 'hospitals', 'fulltime', 'pa...</td>\n",
       "      <td>Healthcare_Nursing</td>\n",
       "    </tr>\n",
       "  </tbody>\n",
       "</table>\n",
       "</div>"
      ],
      "text/plain": [
       "   Webindex                                     Title  \\\n",
       "0  68997528  Finance / Accounts Asst Bromley to ****k   \n",
       "1  68063513               Fund Accountant  Hedge Fund   \n",
       "2  68700336                       Deputy Home Manager   \n",
       "3  67996688             Brokers Wanted Imediate Start   \n",
       "4  71803987           RGN Nurses (Hospitals)  Penarth   \n",
       "\n",
       "                      Company  \\\n",
       "0  First Recruitment Services   \n",
       "1           Austin Andrew Ltd   \n",
       "2                     Caritas   \n",
       "3                 OneTwoTrade   \n",
       "4            Swiis Healthcare   \n",
       "\n",
       "                                         Description  \\\n",
       "0  Accountant (partqualified) to **** p.a. South ...   \n",
       "1  One of the leading Hedge Funds in London is cu...   \n",
       "2  An exciting opportunity has arisen to join an ...   \n",
       "3  OneTwoTrade is expanding their Sales Team and ...   \n",
       "4  RGN Nurses (Hospitals) Immediate fulltime and ...   \n",
       "\n",
       "                               Tokenized Description            Category  \n",
       "0  ['accountant', 'partqualified', 'south', 'east...  Accounting_Finance  \n",
       "1  ['hedge', 'funds', 'london', 'recruiting', 'fu...  Accounting_Finance  \n",
       "2  ['exciting', 'arisen', 'establish', 'provider'...  Healthcare_Nursing  \n",
       "3  ['expanding', 'recruiting', 'junior', 'trainee...  Accounting_Finance  \n",
       "4  ['rgn', 'nurses', 'hospitals', 'fulltime', 'pa...  Healthcare_Nursing  "
      ]
     },
     "execution_count": 4,
     "metadata": {},
     "output_type": "execute_result"
    }
   ],
   "source": [
    "jobs_data = pd.read_csv('jobs_data.csv')\n",
    "webindex = jobs_data['Webindex']\n",
    "jobs_data.head(5)"
   ]
  },
  {
   "cell_type": "markdown",
   "metadata": {},
   "source": [
    "### Bag Of Words Model"
   ]
  },
  {
   "cell_type": "markdown",
   "metadata": {},
   "source": [
    "#### Creating Binary Vectors"
   ]
  },
  {
   "cell_type": "code",
   "execution_count": 5,
   "metadata": {},
   "outputs": [
    {
     "data": {
      "text/plain": [
       "(776, 5168)"
      ]
     },
     "execution_count": 5,
     "metadata": {},
     "output_type": "execute_result"
    }
   ],
   "source": [
    "# Code to perform the task...\n",
    "joined_description = [' '.join(review) for review in tk_description]\n",
    "bVectorizer = CountVectorizer(analyzer = \"word\",binary = True,vocabulary = vocab) # initialise the CountVectorizer\n",
    "binary_features = bVectorizer.fit_transform(joined_description)\n",
    "binary_features.shape"
   ]
  },
  {
   "cell_type": "markdown",
   "metadata": {},
   "source": [
    "#### Creating Count Vectors"
   ]
  },
  {
   "cell_type": "code",
   "execution_count": 6,
   "metadata": {},
   "outputs": [
    {
     "data": {
      "text/plain": [
       "(776, 5168)"
      ]
     },
     "execution_count": 6,
     "metadata": {},
     "output_type": "execute_result"
    }
   ],
   "source": [
    "cVectorizer = CountVectorizer(analyzer = \"word\",vocabulary = vocab) # initialised the CountVectorizer\n",
    "count_features = cVectorizer.fit_transform(joined_description)\n",
    "count_features.shape"
   ]
  },
  {
   "cell_type": "code",
   "execution_count": 11,
   "metadata": {},
   "outputs": [
    {
     "data": {
      "text/html": [
       "<div>\n",
       "<style scoped>\n",
       "    .dataframe tbody tr th:only-of-type {\n",
       "        vertical-align: middle;\n",
       "    }\n",
       "\n",
       "    .dataframe tbody tr th {\n",
       "        vertical-align: top;\n",
       "    }\n",
       "\n",
       "    .dataframe thead th {\n",
       "        text-align: right;\n",
       "    }\n",
       "</style>\n",
       "<table border=\"1\" class=\"dataframe\">\n",
       "  <thead>\n",
       "    <tr style=\"text-align: right;\">\n",
       "      <th></th>\n",
       "      <th>aap</th>\n",
       "      <th>aaron</th>\n",
       "      <th>aat</th>\n",
       "      <th>abb</th>\n",
       "      <th>abenefit</th>\n",
       "      <th>aberdeen</th>\n",
       "      <th>abi</th>\n",
       "      <th>abilities</th>\n",
       "      <th>abreast</th>\n",
       "      <th>abroad</th>\n",
       "      <th>...</th>\n",
       "      <th>years</th>\n",
       "      <th>yeovil</th>\n",
       "      <th>yn</th>\n",
       "      <th>york</th>\n",
       "      <th>yorkshire</th>\n",
       "      <th>youmust</th>\n",
       "      <th>young</th>\n",
       "      <th>younger</th>\n",
       "      <th>yrs</th>\n",
       "      <th>zest</th>\n",
       "    </tr>\n",
       "  </thead>\n",
       "  <tbody>\n",
       "    <tr>\n",
       "      <th>0</th>\n",
       "      <td>0</td>\n",
       "      <td>0</td>\n",
       "      <td>0</td>\n",
       "      <td>0</td>\n",
       "      <td>0</td>\n",
       "      <td>0</td>\n",
       "      <td>0</td>\n",
       "      <td>0</td>\n",
       "      <td>0</td>\n",
       "      <td>0</td>\n",
       "      <td>...</td>\n",
       "      <td>0</td>\n",
       "      <td>0</td>\n",
       "      <td>0</td>\n",
       "      <td>0</td>\n",
       "      <td>0</td>\n",
       "      <td>0</td>\n",
       "      <td>0</td>\n",
       "      <td>0</td>\n",
       "      <td>0</td>\n",
       "      <td>0</td>\n",
       "    </tr>\n",
       "    <tr>\n",
       "      <th>1</th>\n",
       "      <td>0</td>\n",
       "      <td>0</td>\n",
       "      <td>0</td>\n",
       "      <td>0</td>\n",
       "      <td>0</td>\n",
       "      <td>0</td>\n",
       "      <td>0</td>\n",
       "      <td>0</td>\n",
       "      <td>0</td>\n",
       "      <td>0</td>\n",
       "      <td>...</td>\n",
       "      <td>0</td>\n",
       "      <td>0</td>\n",
       "      <td>0</td>\n",
       "      <td>0</td>\n",
       "      <td>0</td>\n",
       "      <td>0</td>\n",
       "      <td>0</td>\n",
       "      <td>0</td>\n",
       "      <td>0</td>\n",
       "      <td>0</td>\n",
       "    </tr>\n",
       "    <tr>\n",
       "      <th>2</th>\n",
       "      <td>0</td>\n",
       "      <td>0</td>\n",
       "      <td>0</td>\n",
       "      <td>0</td>\n",
       "      <td>0</td>\n",
       "      <td>0</td>\n",
       "      <td>0</td>\n",
       "      <td>0</td>\n",
       "      <td>0</td>\n",
       "      <td>0</td>\n",
       "      <td>...</td>\n",
       "      <td>0</td>\n",
       "      <td>0</td>\n",
       "      <td>0</td>\n",
       "      <td>0</td>\n",
       "      <td>0</td>\n",
       "      <td>0</td>\n",
       "      <td>0</td>\n",
       "      <td>0</td>\n",
       "      <td>0</td>\n",
       "      <td>0</td>\n",
       "    </tr>\n",
       "  </tbody>\n",
       "</table>\n",
       "<p>3 rows × 5168 columns</p>\n",
       "</div>"
      ],
      "text/plain": [
       "   aap  aaron  aat  abb  abenefit  aberdeen  abi  abilities  abreast  abroad  \\\n",
       "0    0      0    0    0         0         0    0          0        0       0   \n",
       "1    0      0    0    0         0         0    0          0        0       0   \n",
       "2    0      0    0    0         0         0    0          0        0       0   \n",
       "\n",
       "   ...  years  yeovil  yn  york  yorkshire  youmust  young  younger  yrs  zest  \n",
       "0  ...      0       0   0     0          0        0      0        0    0     0  \n",
       "1  ...      0       0   0     0          0        0      0        0    0     0  \n",
       "2  ...      0       0   0     0          0        0      0        0    0     0  \n",
       "\n",
       "[3 rows x 5168 columns]"
      ]
     },
     "execution_count": 11,
     "metadata": {},
     "output_type": "execute_result"
    }
   ],
   "source": [
    "count_features_df = pd.DataFrame(count_features.toarray(), columns=cVectorizer.get_feature_names_out())\n",
    "# print out samples\n",
    "count_features_df.head(3)"
   ]
  },
  {
   "cell_type": "markdown",
   "metadata": {},
   "source": [
    "#### Saving it into the file"
   ]
  },
  {
   "cell_type": "code",
   "execution_count": 12,
   "metadata": {},
   "outputs": [
    {
     "name": "stdout",
     "output_type": "stream",
     "text": [
      "Count vector representation saved to count_vectors.txt\n"
     ]
    }
   ],
   "source": [
    "count_features = cVectorizer.fit_transform(joined_description).toarray()\n",
    "\n",
    "def save_count_vector(count_features, webindex, filename):\n",
    "    with open(filename, 'w') as f:\n",
    "        for i in range(len(count_features)):\n",
    "            f.write('#' + str(webindex[i]) + ',')\n",
    "            for j in range(len(count_features[i])):\n",
    "                if count_features[i][j] != 0:\n",
    "                    f.write(str(j) + ':' + str(count_features[i][j]) + ',')\n",
    "            f.write('\\n')\n",
    "    f.close()\n",
    "    print('Count vector representation saved to ' + filename)\n",
    "\n",
    "\n",
    "save_count_vector(count_features, webindex, 'count_vectors.txt')"
   ]
  },
  {
   "cell_type": "markdown",
   "metadata": {},
   "source": [
    "#### Creating TF-IDF Vectors"
   ]
  },
  {
   "cell_type": "code",
   "execution_count": 8,
   "metadata": {},
   "outputs": [
    {
     "data": {
      "text/plain": [
       "(776, 5168)"
      ]
     },
     "execution_count": 8,
     "metadata": {},
     "output_type": "execute_result"
    }
   ],
   "source": [
    "tVectorizer = TfidfVectorizer(analyzer = \"word\",vocabulary = vocab) # initialised the TfidfVectorizer\n",
    "tfidf_features = tVectorizer.fit_transform(joined_description) # generate the tfidf vector representation for all articles\n",
    "tfidf_features.shape"
   ]
  },
  {
   "cell_type": "markdown",
   "metadata": {},
   "source": [
    "### Saving outputs\n",
    "Save the count vector representation as per spectification.\n",
    "- count_vectors.txt"
   ]
  },
  {
   "cell_type": "code",
   "execution_count": 9,
   "metadata": {},
   "outputs": [],
   "source": [
    "# code to save output data..."
   ]
  },
  {
   "cell_type": "markdown",
   "metadata": {},
   "source": [
    "## Task 3. Job Advertisement Classification"
   ]
  },
  {
   "cell_type": "markdown",
   "metadata": {},
   "source": [
    "...... Sections and code blocks on buidling classification models based on different document feature represetations. \n",
    "Detailed comparsions and evaluations on different models to answer each question as per specification. \n",
    "\n",
    "<span style=\"color: red\"> You might have complex notebook structure in this section, please feel free to create your own notebook structure. </span>"
   ]
  },
  {
   "cell_type": "code",
   "execution_count": 10,
   "metadata": {},
   "outputs": [],
   "source": [
    "# Code to perform the task...\n"
   ]
  },
  {
   "cell_type": "markdown",
   "metadata": {},
   "source": [
    "## Summary\n",
    "Give a short summary and anything you would like to talk about the assessment tasks here."
   ]
  },
  {
   "cell_type": "markdown",
   "metadata": {},
   "source": [
    "## Couple of notes for all code blocks in this notebook\n",
    "- please provide proper comment on your code\n",
    "- Please re-start and run all cells to make sure codes are runable and include your output in the submission.   \n",
    "<span style=\"color: red\"> This markdown block can be removed once the task is completed. </span>"
   ]
  }
 ],
 "metadata": {
  "kernelspec": {
   "display_name": "Python 3",
   "language": "python",
   "name": "python3"
  },
  "language_info": {
   "codemirror_mode": {
    "name": "ipython",
    "version": 3
   },
   "file_extension": ".py",
   "mimetype": "text/x-python",
   "name": "python",
   "nbconvert_exporter": "python",
   "pygments_lexer": "ipython3",
   "version": "3.9.6"
  }
 },
 "nbformat": 4,
 "nbformat_minor": 1
}
